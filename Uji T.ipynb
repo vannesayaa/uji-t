{
 "cells": [
  {
   "cell_type": "code",
   "execution_count": 1,
   "id": "e92fe30f-e48c-41c2-918a-e6db57dc6ef8",
   "metadata": {},
   "outputs": [
    {
     "name": "stdout",
     "output_type": "stream",
     "text": [
      "Nilai uji t: 2.0315339905291467\n",
      "P-value: 0.06163207606975685\n",
      "Tidak cukup bukti untuk menolak hipotesis nol: Tidak ada bukti yang cukup untuk menyatakan bahwa mean populasi tidak sama dengan nilai yang diuji.\n"
     ]
    }
   ],
   "source": [
    "import numpy as np\n",
    "from scipy.stats import t\n",
    "\n",
    "# Data\n",
    "X = np.array([171, 185, 175, 170, 185, 168, 186, 158, 165, 174, 171, 153, 167, 172, 155])\n",
    "Y = np.array([16, 17, 13, 15, 20, 15, 16, 17, 15, 15, 15, 16, 15, 15, 14])\n",
    "\n",
    "# Mean populasi yang diuji\n",
    "mean_population = np.array([165, 17])\n",
    "\n",
    "# Hitung mean sampel\n",
    "mean_sample_X = np.mean(X)\n",
    "mean_sample_Y = np.mean(Y)\n",
    "\n",
    "# Hitung standar deviasi sampel\n",
    "std_dev_sample_X = np.std(X, ddof=1)\n",
    "std_dev_sample_Y = np.std(Y, ddof=1)\n",
    "\n",
    "# Jumlah sampel\n",
    "n = len(X)\n",
    "\n",
    "# Hitung uji t\n",
    "t_statistic = (mean_sample_X - mean_population[0]) / (std_dev_sample_X / np.sqrt(n))\n",
    "\n",
    "# Tentukan derajat kebebasan\n",
    "df = n - 1\n",
    "\n",
    "# Hitung p-value\n",
    "p_value = 2 * (1 - t.cdf(np.abs(t_statistic), df))\n",
    "\n",
    "# Tentukan alpha\n",
    "alpha = 0.05\n",
    "\n",
    "# Cetak hasil\n",
    "print(\"Nilai uji t:\", t_statistic)\n",
    "print(\"P-value:\", p_value)\n",
    "\n",
    "# Ambil keputusan\n",
    "if p_value < alpha:\n",
    "    print(\"Hipotesis nol ditolak: Terdapat bukti yang cukup untuk menyatakan bahwa mean populasi tidak sama dengan nilai yang diuji.\")\n",
    "else:\n",
    "    print(\"Tidak cukup bukti untuk menolak hipotesis nol: Tidak ada bukti yang cukup untuk menyatakan bahwa mean populasi tidak sama dengan nilai yang diuji.\")"
   ]
  },
  {
   "cell_type": "code",
   "execution_count": null,
   "id": "874edfd3-431c-4653-bc60-296feb84e71d",
   "metadata": {},
   "outputs": [],
   "source": []
  }
 ],
 "metadata": {
  "kernelspec": {
   "display_name": "Python 3 (ipykernel)",
   "language": "python",
   "name": "python3"
  },
  "language_info": {
   "codemirror_mode": {
    "name": "ipython",
    "version": 3
   },
   "file_extension": ".py",
   "mimetype": "text/x-python",
   "name": "python",
   "nbconvert_exporter": "python",
   "pygments_lexer": "ipython3",
   "version": "3.9.12"
  }
 },
 "nbformat": 4,
 "nbformat_minor": 5
}
